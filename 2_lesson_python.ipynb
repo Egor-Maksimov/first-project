{
 "cells": [
  {
   "cell_type": "code",
   "execution_count": null,
   "id": "f40ccb47-275a-47ed-a792-886457de5dec",
   "metadata": {},
   "outputs": [],
   "source": [
    "pip install название модуля"
   ]
  },
  {
   "cell_type": "code",
   "execution_count": 1,
   "id": "7f38aec6",
   "metadata": {},
   "outputs": [
    {
     "name": "stdout",
     "output_type": "stream",
     "text": [
      "The Zen of Python, by Tim Peters\n",
      "\n",
      "Beautiful is better than ugly.\n",
      "Explicit is better than implicit.\n",
      "Simple is better than complex.\n",
      "Complex is better than complicated.\n",
      "Flat is better than nested.\n",
      "Sparse is better than dense.\n",
      "Readability counts.\n",
      "Special cases aren't special enough to break the rules.\n",
      "Although practicality beats purity.\n",
      "Errors should never pass silently.\n",
      "Unless explicitly silenced.\n",
      "In the face of ambiguity, refuse the temptation to guess.\n",
      "There should be one-- and preferably only one --obvious way to do it.\n",
      "Although that way may not be obvious at first unless you're Dutch.\n",
      "Now is better than never.\n",
      "Although never is often better than *right* now.\n",
      "If the implementation is hard to explain, it's a bad idea.\n",
      "If the implementation is easy to explain, it may be a good idea.\n",
      "Namespaces are one honking great idea -- let's do more of those!\n"
     ]
    }
   ],
   "source": [
    "import this"
   ]
  },
  {
   "cell_type": "markdown",
   "id": "4532843f-a2d8-43a4-b70a-9d1ce50be972",
   "metadata": {},
   "source": []
  },
  {
   "cell_type": "markdown",
   "id": "66a25f6c-2e35-4033-9880-e25708a3f148",
   "metadata": {},
   "source": []
  },
  {
   "cell_type": "markdown",
   "id": "c9660771-5528-4ec3-badc-2e089a4107ef",
   "metadata": {},
   "source": []
  },
  {
   "cell_type": "markdown",
   "id": "15e1c5ae-6be9-4629-89d9-e73f44a47933",
   "metadata": {},
   "source": [
    "прпр\n",
    "поро"
   ]
  },
  {
   "cell_type": "markdown",
   "id": "b504f9db",
   "metadata": {},
   "source": [
    "# 1. Типы данных и операции над ними"
   ]
  },
  {
   "cell_type": "markdown",
   "id": "f1d492c2",
   "metadata": {},
   "source": [
    "В чистом python числа бывают двух типов: int — целые и float — c плавающей запятой. Обратите внимание, что инженерная запись числа тоже поддерживается, и ее результат — **всегда float**!"
   ]
  },
  {
   "cell_type": "code",
   "execution_count": 2,
   "id": "a6382787",
   "metadata": {},
   "outputs": [
    {
     "name": "stdout",
     "output_type": "stream",
     "text": [
      "int:  1 ,  2 3 100000000\n",
      "float: 1.23 4.0 0.1 1e-05 1e+16\n"
     ]
    }
   ],
   "source": [
    "# ints\n",
    "print(\"int: \", 1, \", \", 2, 3, 100_000_000)\n",
    "\n",
    "# floats\n",
    "print(\"float:\", 1.23, 4.0, 0.1, 1e-5, 1e16)"
   ]
  },
  {
   "cell_type": "code",
   "execution_count": 3,
   "id": "b907f008",
   "metadata": {},
   "outputs": [
    {
     "data": {
      "text/plain": [
       "60"
      ]
     },
     "execution_count": 3,
     "metadata": {},
     "output_type": "execute_result"
    }
   ],
   "source": [
    "# умножение\n",
    "20 * 3"
   ]
  },
  {
   "cell_type": "code",
   "execution_count": 4,
   "id": "dd8d4f52",
   "metadata": {},
   "outputs": [
    {
     "data": {
      "text/plain": [
       "5.5"
      ]
     },
     "execution_count": 4,
     "metadata": {},
     "output_type": "execute_result"
    }
   ],
   "source": [
    "# деление \n",
    "22 / 4"
   ]
  },
  {
   "cell_type": "code",
   "execution_count": 5,
   "id": "b3e1572f",
   "metadata": {},
   "outputs": [
    {
     "data": {
      "text/plain": [
       "6"
      ]
     },
     "execution_count": 5,
     "metadata": {},
     "output_type": "execute_result"
    }
   ],
   "source": [
    "# Получение целой части от деления\n",
    "20 // 3"
   ]
  },
  {
   "cell_type": "code",
   "execution_count": 6,
   "id": "d46af9b6",
   "metadata": {},
   "outputs": [
    {
     "data": {
      "text/plain": [
       "2"
      ]
     },
     "execution_count": 6,
     "metadata": {},
     "output_type": "execute_result"
    }
   ],
   "source": [
    "# Остаток от деления\n",
    "20 % 3"
   ]
  },
  {
   "cell_type": "code",
   "execution_count": 7,
   "id": "9aa45a98",
   "metadata": {},
   "outputs": [
    {
     "data": {
      "text/plain": [
       "9"
      ]
     },
     "execution_count": 7,
     "metadata": {},
     "output_type": "execute_result"
    }
   ],
   "source": [
    "# Возведение в степень\n",
    "3**2"
   ]
  },
  {
   "cell_type": "code",
   "execution_count": 8,
   "id": "f34e93d5",
   "metadata": {},
   "outputs": [],
   "source": [
    "import math"
   ]
  },
  {
   "cell_type": "code",
   "execution_count": 9,
   "id": "ee3f49d7",
   "metadata": {},
   "outputs": [
    {
     "data": {
      "text/plain": [
       "20"
      ]
     },
     "execution_count": 9,
     "metadata": {},
     "output_type": "execute_result"
    }
   ],
   "source": [
    "math.ceil(19.1)"
   ]
  },
  {
   "cell_type": "code",
   "execution_count": 10,
   "id": "1445711d",
   "metadata": {},
   "outputs": [
    {
     "data": {
      "text/plain": [
       "19"
      ]
     },
     "execution_count": 10,
     "metadata": {},
     "output_type": "execute_result"
    }
   ],
   "source": [
    "math.floor(19.1)"
   ]
  },
  {
   "cell_type": "code",
   "execution_count": 11,
   "id": "879ecaeb",
   "metadata": {},
   "outputs": [
    {
     "name": "stdout",
     "output_type": "stream",
     "text": [
      "<class 'str'> 19\n",
      "<class 'int'> 20\n",
      "<class 'float'> 19\n"
     ]
    }
   ],
   "source": [
    "# преобразование типов. Команда type()\n",
    "value = '19'\n",
    "\n",
    "print(type(value), value )\n",
    "print(type(int(value)), int(value)+1) # Переводим строку в число\n",
    "print(type(19.1), int(19.8)) # Переводим float в int"
   ]
  },
  {
   "cell_type": "code",
   "execution_count": 12,
   "id": "13d37b92",
   "metadata": {},
   "outputs": [
    {
     "data": {
      "text/plain": [
       "0.9999999999999999"
      ]
     },
     "execution_count": 12,
     "metadata": {},
     "output_type": "execute_result"
    }
   ],
   "source": [
    "0.1 + 0.1 + 0.1 + 0.1 + 0.1 + 0.1 + 0.1 + 0.1 + 0.1 + 0.1"
   ]
  },
  {
   "cell_type": "markdown",
   "id": "5adfdf78",
   "metadata": {},
   "source": [
    "В Python, числа с плавающей запятой (float) представляются в двоичной системе счисления. Некоторые числа с плавающей запятой, которые могут быть точно представлены в десятичной системе, могут быть представлены только приблизительно в двоичной системе. Это может привести к неточностям при выполнении арифметических операций.\n",
    "\n",
    "В нашем случае, если сложить 0.1 десять раз, результат будет приблизительно равен 0.9999999999999999, а не точно 1. Это происходит из-за неточности представления десятичной дроби 0.1 в двоичной системе счисления."
   ]
  },
  {
   "cell_type": "code",
   "execution_count": 13,
   "id": "6cf66435",
   "metadata": {},
   "outputs": [
    {
     "name": "stdout",
     "output_type": "stream",
     "text": [
      "1.0\n"
     ]
    }
   ],
   "source": [
    "result = round(0.1 + 0.1 + 0.1 + 0.1 + 0.1 + 0.1 + 0.1 + 0.1 + 0.1 + 0.1, 10)\n",
    "print(result)  "
   ]
  },
  {
   "cell_type": "markdown",
   "id": "64b98957",
   "metadata": {},
   "source": [
    "Приоритет операций следующий:\n",
    "\n",
    "* Возведение в степень\n",
    "* Умножение, деление, целочисленное деление\n",
    "* Сложение и вычитание\n",
    "* Знаки сравнения, вроде x **>=** 0\n",
    "* Булевы операторы в условия (and, or, not)\n",
    "\n",
    "Поэтому так написать можно без скобок:"
   ]
  },
  {
   "cell_type": "code",
   "execution_count": 14,
   "id": "92eb91b2",
   "metadata": {},
   "outputs": [
    {
     "data": {
      "text/plain": [
       "False"
      ]
     },
     "execution_count": 14,
     "metadata": {},
     "output_type": "execute_result"
    }
   ],
   "source": [
    "# что выведет следующее выражение?\n",
    "\n",
    "10 * 123 ** 0 - 5 > 0 and 2 > 6"
   ]
  },
  {
   "cell_type": "markdown",
   "id": "a1425c63",
   "metadata": {},
   "source": [
    "## 1.1. Логический тип Bool()"
   ]
  },
  {
   "cell_type": "code",
   "execution_count": 15,
   "id": "77e80874",
   "metadata": {},
   "outputs": [
    {
     "data": {
      "text/plain": [
       "False"
      ]
     },
     "execution_count": 15,
     "metadata": {},
     "output_type": "execute_result"
    }
   ],
   "source": [
    "a = False\n",
    "b = True\n",
    "\n",
    "a == b"
   ]
  },
  {
   "cell_type": "code",
   "execution_count": 16,
   "id": "1322c72c",
   "metadata": {},
   "outputs": [
    {
     "data": {
      "text/plain": [
       "bool"
      ]
     },
     "execution_count": 16,
     "metadata": {},
     "output_type": "execute_result"
    }
   ],
   "source": [
    "type(a)"
   ]
  },
  {
   "cell_type": "code",
   "execution_count": 17,
   "id": "6f30d683",
   "metadata": {},
   "outputs": [
    {
     "data": {
      "text/plain": [
       "False"
      ]
     },
     "execution_count": 17,
     "metadata": {},
     "output_type": "execute_result"
    }
   ],
   "source": [
    "2 == True"
   ]
  },
  {
   "cell_type": "code",
   "execution_count": 18,
   "id": "e150b89f",
   "metadata": {},
   "outputs": [
    {
     "data": {
      "text/plain": [
       "1"
      ]
     },
     "execution_count": 18,
     "metadata": {},
     "output_type": "execute_result"
    }
   ],
   "source": [
    "int(b)"
   ]
  },
  {
   "cell_type": "code",
   "execution_count": 19,
   "id": "b3f4336d",
   "metadata": {},
   "outputs": [
    {
     "name": "stdout",
     "output_type": "stream",
     "text": [
      "False\n"
     ]
    }
   ],
   "source": [
    "result = 2 > 5\n",
    "print(result)"
   ]
  },
  {
   "cell_type": "markdown",
   "id": "a90adc3c",
   "metadata": {},
   "source": [
    "## 1.2. Строковые str()"
   ]
  },
  {
   "cell_type": "code",
   "execution_count": 20,
   "id": "490056de",
   "metadata": {},
   "outputs": [
    {
     "name": "stdout",
     "output_type": "stream",
     "text": [
      "привет Даша\n"
     ]
    }
   ],
   "source": [
    "hello = 'привет' \n",
    "name = 'Даша'\n",
    "\n",
    "print(hello, name)"
   ]
  },
  {
   "cell_type": "code",
   "execution_count": 21,
   "id": "81b60cee",
   "metadata": {},
   "outputs": [
    {
     "data": {
      "text/plain": [
       "'приветприветприветприветпривет'"
      ]
     },
     "execution_count": 21,
     "metadata": {},
     "output_type": "execute_result"
    }
   ],
   "source": [
    "hello*5"
   ]
  },
  {
   "cell_type": "code",
   "execution_count": 22,
   "id": "a0f34ebc",
   "metadata": {},
   "outputs": [
    {
     "data": {
      "text/plain": [
       "'привет Даша'"
      ]
     },
     "execution_count": 22,
     "metadata": {},
     "output_type": "execute_result"
    }
   ],
   "source": [
    "hello+' '+name"
   ]
  },
  {
   "cell_type": "code",
   "execution_count": 23,
   "id": "5118682d",
   "metadata": {},
   "outputs": [],
   "source": [
    "greetitng = hello + \", \" + name + \"!\""
   ]
  },
  {
   "cell_type": "code",
   "execution_count": 24,
   "id": "38f8577f",
   "metadata": {},
   "outputs": [
    {
     "name": "stdout",
     "output_type": "stream",
     "text": [
      "привет, Даша!\n"
     ]
    }
   ],
   "source": [
    "print(greetitng)"
   ]
  },
  {
   "cell_type": "code",
   "execution_count": 25,
   "id": "d8217edb",
   "metadata": {},
   "outputs": [
    {
     "data": {
      "text/plain": [
       "'ПРИВЕТ, ДАША!'"
      ]
     },
     "execution_count": 25,
     "metadata": {},
     "output_type": "execute_result"
    }
   ],
   "source": [
    "greetitng.upper()"
   ]
  },
  {
   "cell_type": "code",
   "execution_count": 26,
   "id": "28d01879",
   "metadata": {},
   "outputs": [
    {
     "data": {
      "text/plain": [
       "['привет', 'Даша', 'sdfsdfs']"
      ]
     },
     "execution_count": 26,
     "metadata": {},
     "output_type": "execute_result"
    }
   ],
   "source": [
    "'привет Даша sdfsdfs'.split(' ')"
   ]
  },
  {
   "cell_type": "markdown",
   "id": "601618b6",
   "metadata": {},
   "source": [
    "## 1.3. Массивы list()"
   ]
  },
  {
   "cell_type": "code",
   "execution_count": 27,
   "id": "44312ca6",
   "metadata": {},
   "outputs": [],
   "source": [
    "a = ['Яблоко', 'Груша', 'Слива']\n",
    "b = [1,2,3,4,5,6]"
   ]
  },
  {
   "cell_type": "code",
   "execution_count": 28,
   "id": "4440c7d9",
   "metadata": {},
   "outputs": [
    {
     "name": "stdout",
     "output_type": "stream",
     "text": [
      "[1, 2, 3, 4, 5, 6]\n"
     ]
    }
   ],
   "source": [
    "print(b)"
   ]
  },
  {
   "cell_type": "code",
   "execution_count": 29,
   "id": "c9dc4fcf",
   "metadata": {},
   "outputs": [
    {
     "data": {
      "text/plain": [
       "['Яблоко', 'Груша', 'Слива', 1, 2, 3, 4, 5, 6]"
      ]
     },
     "execution_count": 29,
     "metadata": {},
     "output_type": "execute_result"
    }
   ],
   "source": [
    "a + b"
   ]
  },
  {
   "cell_type": "code",
   "execution_count": 30,
   "id": "0ada123a",
   "metadata": {},
   "outputs": [
    {
     "name": "stdout",
     "output_type": "stream",
     "text": [
      "['Яблоко', 'Груша', 'Слива', 'Яблоко', 'Груша', 'Слива', 'Яблоко', 'Груша', 'Слива', 'Яблоко', 'Груша', 'Слива', 'Яблоко', 'Груша', 'Слива']\n"
     ]
    }
   ],
   "source": [
    "print(a*5)"
   ]
  },
  {
   "cell_type": "code",
   "execution_count": 31,
   "id": "334942c7",
   "metadata": {},
   "outputs": [
    {
     "ename": "TypeError",
     "evalue": "unsupported operand type(s) for -: 'list' and 'list'",
     "output_type": "error",
     "traceback": [
      "\u001b[1;31m---------------------------------------------------------------------------\u001b[0m",
      "\u001b[1;31mTypeError\u001b[0m                                 Traceback (most recent call last)",
      "Cell \u001b[1;32mIn[31], line 1\u001b[0m\n\u001b[1;32m----> 1\u001b[0m a \u001b[38;5;241m-\u001b[39m b\n",
      "\u001b[1;31mTypeError\u001b[0m: unsupported operand type(s) for -: 'list' and 'list'"
     ]
    }
   ],
   "source": [
    "a - b"
   ]
  },
  {
   "cell_type": "code",
   "execution_count": 32,
   "id": "9ee92d6a",
   "metadata": {},
   "outputs": [
    {
     "ename": "TypeError",
     "evalue": "unsupported operand type(s) for /: 'list' and 'list'",
     "output_type": "error",
     "traceback": [
      "\u001b[1;31m---------------------------------------------------------------------------\u001b[0m",
      "\u001b[1;31mTypeError\u001b[0m                                 Traceback (most recent call last)",
      "Cell \u001b[1;32mIn[32], line 1\u001b[0m\n\u001b[1;32m----> 1\u001b[0m a\u001b[38;5;241m/\u001b[39mb\n",
      "\u001b[1;31mTypeError\u001b[0m: unsupported operand type(s) for /: 'list' and 'list'"
     ]
    }
   ],
   "source": [
    "a/b"
   ]
  },
  {
   "cell_type": "code",
   "execution_count": 33,
   "id": "aac9acf8",
   "metadata": {},
   "outputs": [
    {
     "data": {
      "text/plain": [
       "['Яблоко', 'Груша', 'Слива']"
      ]
     },
     "execution_count": 33,
     "metadata": {},
     "output_type": "execute_result"
    }
   ],
   "source": [
    "a"
   ]
  },
  {
   "cell_type": "code",
   "execution_count": 34,
   "id": "fc746b27",
   "metadata": {},
   "outputs": [
    {
     "data": {
      "text/plain": [
       "'Слива'"
      ]
     },
     "execution_count": 34,
     "metadata": {},
     "output_type": "execute_result"
    }
   ],
   "source": [
    "a[2]"
   ]
  },
  {
   "cell_type": "code",
   "execution_count": 35,
   "id": "9de66594",
   "metadata": {},
   "outputs": [
    {
     "data": {
      "text/plain": [
       "['Груша']"
      ]
     },
     "execution_count": 35,
     "metadata": {},
     "output_type": "execute_result"
    }
   ],
   "source": [
    "a[1:2]"
   ]
  },
  {
   "cell_type": "code",
   "execution_count": 36,
   "id": "b74c8078",
   "metadata": {},
   "outputs": [
    {
     "data": {
      "text/plain": [
       "[1, 2, 3, 4, 5, 6]"
      ]
     },
     "execution_count": 36,
     "metadata": {},
     "output_type": "execute_result"
    }
   ],
   "source": [
    "b"
   ]
  },
  {
   "cell_type": "code",
   "execution_count": 37,
   "id": "20a9920e",
   "metadata": {},
   "outputs": [
    {
     "data": {
      "text/plain": [
       "[6, 5, 4, 3, 2, 1]"
      ]
     },
     "execution_count": 37,
     "metadata": {},
     "output_type": "execute_result"
    }
   ],
   "source": [
    "b[::-1]"
   ]
  },
  {
   "cell_type": "code",
   "execution_count": 38,
   "id": "786d5edd",
   "metadata": {},
   "outputs": [
    {
     "data": {
      "text/plain": [
       "['Яблоко', 'Груша', 'Слива']"
      ]
     },
     "execution_count": 38,
     "metadata": {},
     "output_type": "execute_result"
    }
   ],
   "source": [
    "a"
   ]
  },
  {
   "cell_type": "code",
   "execution_count": 39,
   "id": "510c8bf8",
   "metadata": {},
   "outputs": [
    {
     "data": {
      "text/plain": [
       "'Слива'"
      ]
     },
     "execution_count": 39,
     "metadata": {},
     "output_type": "execute_result"
    }
   ],
   "source": [
    "a.pop()"
   ]
  },
  {
   "cell_type": "code",
   "execution_count": 40,
   "id": "c577c991",
   "metadata": {},
   "outputs": [
    {
     "data": {
      "text/plain": [
       "['Яблоко', 'Груша']"
      ]
     },
     "execution_count": 40,
     "metadata": {},
     "output_type": "execute_result"
    }
   ],
   "source": [
    "a"
   ]
  },
  {
   "cell_type": "code",
   "execution_count": 41,
   "id": "bca89867",
   "metadata": {},
   "outputs": [],
   "source": [
    "a.append('Помидор')"
   ]
  },
  {
   "cell_type": "code",
   "execution_count": 42,
   "id": "9ebbf1ed",
   "metadata": {},
   "outputs": [
    {
     "data": {
      "text/plain": [
       "['Яблоко', 'Груша', 'Помидор']"
      ]
     },
     "execution_count": 42,
     "metadata": {},
     "output_type": "execute_result"
    }
   ],
   "source": [
    "a"
   ]
  },
  {
   "cell_type": "markdown",
   "id": "eef21e2a",
   "metadata": {},
   "source": [
    "## 1.4. Словари dict()"
   ]
  },
  {
   "cell_type": "code",
   "execution_count": 43,
   "id": "debc776f",
   "metadata": {},
   "outputs": [
    {
     "data": {
      "text/plain": [
       "{'1': 'Яблоко', '2': 'Груша', '4': 'Слива'}"
      ]
     },
     "execution_count": 43,
     "metadata": {},
     "output_type": "execute_result"
    }
   ],
   "source": [
    "a = {'1': 'Яблоко',\n",
    "     '2': 'Груша',\n",
    "     '4': 'Слива'}\n",
    "a"
   ]
  },
  {
   "cell_type": "code",
   "execution_count": 44,
   "id": "7982c059",
   "metadata": {},
   "outputs": [
    {
     "data": {
      "text/plain": [
       "dict_keys(['1', '2', '4'])"
      ]
     },
     "execution_count": 44,
     "metadata": {},
     "output_type": "execute_result"
    }
   ],
   "source": [
    "a.keys()"
   ]
  },
  {
   "cell_type": "code",
   "execution_count": 45,
   "id": "9c42236a",
   "metadata": {},
   "outputs": [
    {
     "data": {
      "text/plain": [
       "dict_values(['Яблоко', 'Груша', 'Слива'])"
      ]
     },
     "execution_count": 45,
     "metadata": {},
     "output_type": "execute_result"
    }
   ],
   "source": [
    "a.values()"
   ]
  },
  {
   "cell_type": "code",
   "execution_count": 46,
   "id": "5cf7f3a3",
   "metadata": {},
   "outputs": [
    {
     "data": {
      "text/plain": [
       "dict_items([('1', 'Яблоко'), ('2', 'Груша'), ('4', 'Слива')])"
      ]
     },
     "execution_count": 46,
     "metadata": {},
     "output_type": "execute_result"
    }
   ],
   "source": [
    "a.items()"
   ]
  },
  {
   "cell_type": "code",
   "execution_count": 47,
   "id": "4c0b1411",
   "metadata": {},
   "outputs": [
    {
     "data": {
      "text/plain": [
       "'Яблоко'"
      ]
     },
     "execution_count": 47,
     "metadata": {},
     "output_type": "execute_result"
    }
   ],
   "source": [
    "a['1']"
   ]
  },
  {
   "cell_type": "code",
   "execution_count": 48,
   "id": "b3aeca3f",
   "metadata": {},
   "outputs": [
    {
     "data": {
      "text/plain": [
       "'Слива'"
      ]
     },
     "execution_count": 48,
     "metadata": {},
     "output_type": "execute_result"
    }
   ],
   "source": [
    "a['4']"
   ]
  },
  {
   "cell_type": "markdown",
   "id": "129dee5f",
   "metadata": {},
   "source": [
    "# 2. Неизменяемые / Изменяемые  типы данных"
   ]
  },
  {
   "cell_type": "markdown",
   "id": "5cb739e4",
   "metadata": {},
   "source": [
    "## 2.1. Неизменяемые\n",
    "- Numbers (числа)\n",
    "- Strings (строки)\n",
    "- Tuples (кортежи)\n",
    "- Boolean (логический тип данных)\n",
    "- FrozenSet (неизменяняемые множества)"
   ]
  },
  {
   "cell_type": "code",
   "execution_count": 49,
   "id": "d6735866",
   "metadata": {},
   "outputs": [
    {
     "name": "stdout",
     "output_type": "stream",
     "text": [
      "x = 1000 <class 'int'> 2267579767216\n",
      "y = 2000 <class 'int'> 2267579768720\n",
      "False False\n"
     ]
    }
   ],
   "source": [
    "x = 1000\n",
    "y = 2000\n",
    "print(\"x =\", x, type(x), id(x))\n",
    "print(\"y =\", y, type(y), id(y))\n",
    "print(x == y, x is y)"
   ]
  },
  {
   "cell_type": "code",
   "execution_count": 50,
   "id": "85b02e4b",
   "metadata": {},
   "outputs": [
    {
     "name": "stdout",
     "output_type": "stream",
     "text": [
      "x = 2000 <class 'int'> 2267579768720\n",
      "y = 2000 <class 'int'> 2267579768720\n",
      "True True\n"
     ]
    }
   ],
   "source": [
    "x = y\n",
    "print(\"x =\", x, type(x), id(x))\n",
    "print(\"y =\", y, type(y), id(y))\n",
    "print(x == y, x is y)"
   ]
  },
  {
   "cell_type": "code",
   "execution_count": 51,
   "id": "b0ad4544",
   "metadata": {},
   "outputs": [
    {
     "name": "stdout",
     "output_type": "stream",
     "text": [
      "x = 2001 <class 'int'> 2267579762320\n",
      "y = 2000 <class 'int'> 2267579768720\n",
      "False False\n"
     ]
    }
   ],
   "source": [
    "x = x + 1\n",
    "print(\"x =\", x, type(x), id(x))\n",
    "print(\"y =\", y, type(y), id(y))\n",
    "print(x == y, x is y)"
   ]
  },
  {
   "cell_type": "markdown",
   "id": "4f8ca887",
   "metadata": {},
   "source": [
    "**frozenset в Python** - это неизменяемая версия типа данных set. Подобно **set**, **frozenset** представляет собой неупорядоченную коллекцию уникальных элементов, но в отличие от **set**, объект типа **frozenset** не может быть изменен после создания, то есть вы не можете добавлять или удалять элементы из **frozenset**.\n",
    "\n",
    "**frozenset** полезен там, где требуется использовать неизменяемое множество элементов в качестве ключа для словаря или как элемент множества в другом множестве. Также **frozenset** может быть полезен в качестве неизменяемого хэшируемого объекта."
   ]
  },
  {
   "cell_type": "code",
   "execution_count": 52,
   "id": "669e5a61",
   "metadata": {},
   "outputs": [
    {
     "data": {
      "text/plain": [
       "True"
      ]
     },
     "execution_count": 52,
     "metadata": {},
     "output_type": "execute_result"
    }
   ],
   "source": [
    "a = set('qwerty')\n",
    "b = frozenset('qwerty')\n",
    "a == b"
   ]
  },
  {
   "cell_type": "code",
   "execution_count": 53,
   "id": "19138ba5",
   "metadata": {},
   "outputs": [
    {
     "data": {
      "text/plain": [
       "frozenset({'e', 'q', 'r', 't', 'w', 'y'})"
      ]
     },
     "execution_count": 53,
     "metadata": {},
     "output_type": "execute_result"
    }
   ],
   "source": [
    "b"
   ]
  },
  {
   "cell_type": "code",
   "execution_count": 54,
   "id": "cb903a4a",
   "metadata": {},
   "outputs": [
    {
     "ename": "AttributeError",
     "evalue": "'frozenset' object has no attribute 'add'",
     "output_type": "error",
     "traceback": [
      "\u001b[1;31m---------------------------------------------------------------------------\u001b[0m",
      "\u001b[1;31mAttributeError\u001b[0m                            Traceback (most recent call last)",
      "Cell \u001b[1;32mIn[54], line 4\u001b[0m\n\u001b[0;32m      2\u001b[0m \u001b[38;5;28mtype\u001b[39m(a \u001b[38;5;241m|\u001b[39m b)\n\u001b[0;32m      3\u001b[0m a\u001b[38;5;241m.\u001b[39madd(\u001b[38;5;241m1\u001b[39m)\n\u001b[1;32m----> 4\u001b[0m b\u001b[38;5;241m.\u001b[39madd(\u001b[38;5;241m1\u001b[39m)\n",
      "\u001b[1;31mAttributeError\u001b[0m: 'frozenset' object has no attribute 'add'"
     ]
    }
   ],
   "source": [
    "type(a - b)\n",
    "type(a | b)\n",
    "a.add(1)\n",
    "b.add(1)"
   ]
  },
  {
   "cell_type": "markdown",
   "id": "2a3947dd",
   "metadata": {},
   "source": [
    "## 2.2. Изменяемые\n",
    "- Lists (списки)\n",
    "- Dictionaries (словари)\n",
    "- Sets (множества)"
   ]
  },
  {
   "cell_type": "code",
   "execution_count": 55,
   "id": "6743f1d7",
   "metadata": {},
   "outputs": [],
   "source": [
    "x = ['Яблоко', 'Груша', 'Слива']\n",
    "y = ['Помидор', 'Огурец', 'Мокровь']"
   ]
  },
  {
   "cell_type": "code",
   "execution_count": 56,
   "id": "65d8837f",
   "metadata": {},
   "outputs": [
    {
     "name": "stdout",
     "output_type": "stream",
     "text": [
      "x = ['Яблоко', 'Груша', 'Слива'] <class 'list'> 2267581039488\n",
      "y = ['Помидор', 'Огурец', 'Мокровь'] <class 'list'> 2267581018112\n",
      "False False\n"
     ]
    }
   ],
   "source": [
    "print(\"x =\", x, type(x), id(x))\n",
    "print(\"y =\", y, type(y), id(y))\n",
    "print(x == y, x is y)"
   ]
  },
  {
   "cell_type": "code",
   "execution_count": 57,
   "id": "49e42720",
   "metadata": {},
   "outputs": [
    {
     "name": "stdout",
     "output_type": "stream",
     "text": [
      "x = ['Яблоко', 'Груша', 'Слива'] <class 'list'> 2267581010560\n",
      "y = ['Яблоко', 'Груша', 'Слива'] <class 'list'> 2267581010560\n",
      "True True\n"
     ]
    }
   ],
   "source": [
    "x = ['Яблоко', 'Груша', 'Слива']\n",
    "y = x\n",
    "print(\"x =\", x, type(x), id(x))\n",
    "print(\"y =\", y, type(y), id(y))\n",
    "print(x == y, x is y)"
   ]
  },
  {
   "cell_type": "code",
   "execution_count": 58,
   "id": "761a0479",
   "metadata": {},
   "outputs": [
    {
     "name": "stdout",
     "output_type": "stream",
     "text": [
      "['Яблоко', 'Груша', 'Слива', 'Банан']\n"
     ]
    }
   ],
   "source": [
    "x.append('Банан')\n",
    "print(x)"
   ]
  },
  {
   "cell_type": "code",
   "execution_count": 59,
   "id": "bd45c7ed",
   "metadata": {},
   "outputs": [
    {
     "name": "stdout",
     "output_type": "stream",
     "text": [
      "x = ['Яблоко', 'Груша', 'Слива', 'Банан'] <class 'list'> 2267581010560\n",
      "y = ['Яблоко', 'Груша', 'Слива', 'Банан'] <class 'list'> 2267581010560\n",
      "True True\n"
     ]
    }
   ],
   "source": [
    "print(\"x =\", x, type(x), id(x))\n",
    "print(\"y =\", y, type(y), id(y))\n",
    "print(x == y, x is y)"
   ]
  },
  {
   "cell_type": "code",
   "execution_count": 60,
   "id": "c4daf1dd",
   "metadata": {},
   "outputs": [
    {
     "name": "stdout",
     "output_type": "stream",
     "text": [
      "140707393880840\n",
      "2267581018112\n",
      "2267581018112\n",
      "140707393880872\n"
     ]
    }
   ],
   "source": [
    "var1 = 0\n",
    "print(id(var1))\n",
    "var1 =[1,2,3]\n",
    "print(id(var1))\n",
    "var1.append(4)\n",
    "print(id(var1))\n",
    "var1 = 1\n",
    "print(id(var1))"
   ]
  },
  {
   "cell_type": "markdown",
   "id": "541d6b71",
   "metadata": {},
   "source": [
    "### Домашнее задание 1:  изучить кортежи, множества"
   ]
  },
  {
   "attachments": {
    "Untitled_6_1607420280.png": {
     "image/png": "[encoded data removed]"
    }
   },
   "cell_type": "markdown",
   "id": "9ab9e68d",
   "metadata": {},
   "source": [
    "# 3. Функции\n",
    "![Untitled_6_1607420280.png](attachment:Untitled_6_1607420280.png)"
   ]
  },
  {
   "cell_type": "code",
   "execution_count": 61,
   "id": "08faa441",
   "metadata": {},
   "outputs": [
    {
     "name": "stdout",
     "output_type": "stream",
     "text": [
      "Привет, мир!\n"
     ]
    }
   ],
   "source": [
    "# Определение функции\n",
    "def say_hello():\n",
    "    print(\"Привет, мир!\")\n",
    "\n",
    "# Вызов функции\n",
    "say_hello()"
   ]
  },
  {
   "cell_type": "code",
   "execution_count": 62,
   "id": "56625f36",
   "metadata": {},
   "outputs": [
    {
     "name": "stdout",
     "output_type": "stream",
     "text": [
      "Привет,  когорта 43 !\n"
     ]
    }
   ],
   "source": [
    "# Определение функции с аргументами\n",
    "def greet(name):\n",
    "    print(\"Привет, \", name, \"!\")\n",
    "\n",
    "# Вызов функции с передачей аргумента\n",
    "greet(\"когорта 43\")"
   ]
  },
  {
   "cell_type": "code",
   "execution_count": 63,
   "id": "6d9820ec",
   "metadata": {},
   "outputs": [
    {
     "name": "stdout",
     "output_type": "stream",
     "text": [
      "Привет,  когорта 99 !\n"
     ]
    }
   ],
   "source": [
    "a = \"когорта 99\"\n",
    "greet(a)"
   ]
  },
  {
   "cell_type": "code",
   "execution_count": 64,
   "id": "53621f3f",
   "metadata": {},
   "outputs": [
    {
     "name": "stdout",
     "output_type": "stream",
     "text": [
      "Квадрат числа 5 равен: 25\n"
     ]
    }
   ],
   "source": [
    "# Определение функции с возвращаемым значением\n",
    "def square(x):\n",
    "    return x ** 2\n",
    "\n",
    "# Вызов функции и сохранение результата в переменную\n",
    "result = square(5)\n",
    "print(\"Квадрат числа 5 равен:\", result)"
   ]
  },
  {
   "cell_type": "markdown",
   "id": "6c72e84e",
   "metadata": {},
   "source": [
    "Пример работы с изменяемыми и неизменяемыми типами данных внутри функции:"
   ]
  },
  {
   "cell_type": "code",
   "execution_count": 65,
   "id": "95749fad",
   "metadata": {},
   "outputs": [
    {
     "ename": "NameError",
     "evalue": "name 'my_list' is not defined",
     "output_type": "error",
     "traceback": [
      "\u001b[1;31m---------------------------------------------------------------------------\u001b[0m",
      "\u001b[1;31mNameError\u001b[0m                                 Traceback (most recent call last)",
      "Cell \u001b[1;32mIn[65], line 11\u001b[0m\n\u001b[0;32m      9\u001b[0m \u001b[38;5;66;03m# Вызов функции и изменение списка\u001b[39;00m\n\u001b[0;32m     10\u001b[0m modify_list(list_1, a)\n\u001b[1;32m---> 11\u001b[0m \u001b[38;5;28mprint\u001b[39m(\u001b[38;5;124m\"\u001b[39m\u001b[38;5;124mИзмененный список:\u001b[39m\u001b[38;5;124m\"\u001b[39m, my_list)\n",
      "\u001b[1;31mNameError\u001b[0m: name 'my_list' is not defined"
     ]
    }
   ],
   "source": [
    "# Определение функции, которая изменяет переданный список\n",
    "def modify_list(my_list, a):\n",
    "    my_list.append(a)\n",
    "\n",
    "# Определение списка\n",
    "list_1 = [1, 2, 3, 7, 10]\n",
    "a = 1\n",
    "\n",
    "# Вызов функции и изменение списка\n",
    "modify_list(list_1, a)\n",
    "print(\"Измененный список:\", my_list)  # Результат: [1, 2, 3, 4]"
   ]
  },
  {
   "cell_type": "markdown",
   "id": "3f116faf",
   "metadata": {},
   "source": [
    "Пример функции с проверкой типа данных аргумента:"
   ]
  },
  {
   "cell_type": "code",
   "execution_count": 66,
   "id": "e263d88f",
   "metadata": {},
   "outputs": [
    {
     "name": "stdout",
     "output_type": "stream",
     "text": [
      "Modified list: [1, 2, 3, 4]\n",
      "Modified number: 5\n"
     ]
    }
   ],
   "source": [
    "# Функция изменяет значение переменной типа списка\n",
    "def add_to_list(lst):\n",
    "    lst.append(4)\n",
    "\n",
    "# Функция не изменяет значение переменной типа целого числа\n",
    "def add_one(x):\n",
    "    x = x + 1\n",
    "\n",
    "# Создание переменных\n",
    "my_list = [1, 2, 3]\n",
    "my_number = 5\n",
    "\n",
    "# Вызов функций\n",
    "add_to_list(my_list)\n",
    "add_one(my_number)\n",
    "\n",
    "# Проверка значений переменных после вызова функций\n",
    "print(\"Modified list:\", my_list)  # Ожидаемый результат: [1, 2, 3, 4]\n",
    "print(\"Modified number:\", my_number)  # Ожидаемый результат: 5"
   ]
  },
  {
   "cell_type": "code",
   "execution_count": 67,
   "id": "67a73a29",
   "metadata": {},
   "outputs": [
    {
     "name": "stdout",
     "output_type": "stream",
     "text": [
      "10\n",
      "Ошибка: аргумент должен быть целым числом!\n"
     ]
    }
   ],
   "source": [
    "# Определение функции с проверкой типа данных аргумента\n",
    "def multiply_by_two(x):\n",
    "    if isinstance(x, int):\n",
    "        return x * 2\n",
    "    else:\n",
    "        return \"Ошибка: аргумент должен быть целым числом!\"\n",
    "\n",
    "# Вызов функции с разными типами данных\n",
    "print(multiply_by_two(5))    # Результат: 10\n",
    "print(multiply_by_two(\"a\"))  # Результат: Ошибка: аргумент должен быть целым числом!"
   ]
  },
  {
   "cell_type": "markdown",
   "id": "5cb55f83",
   "metadata": {},
   "source": [
    "### Домашнее задание 2: изучить try-except"
   ]
  },
  {
   "attachments": {
    "untitled__69__1633008494.png": {
     "image/png": "[encoded data removed]"
    }
   },
   "cell_type": "markdown",
   "id": "cacae9a2",
   "metadata": {},
   "source": [
    "# 4. Цикл for, вветвления if else ![untitled__69__1633008494.png](attachment:untitled__69__1633008494.png)"
   ]
  },
  {
   "cell_type": "code",
   "execution_count": 68,
   "id": "7e3e69bb",
   "metadata": {},
   "outputs": [
    {
     "name": "stdout",
     "output_type": "stream",
     "text": [
      "1\n",
      "3\n",
      "5\n",
      "7\n",
      "9\n"
     ]
    }
   ],
   "source": [
    "for x in range(1,10,2):\n",
    "    print(x)"
   ]
  },
  {
   "cell_type": "markdown",
   "id": "8b611776",
   "metadata": {},
   "source": [
    "Полезно знать про **`enumerate`**:"
   ]
  },
  {
   "cell_type": "code",
   "execution_count": 69,
   "id": "befb2061",
   "metadata": {},
   "outputs": [
    {
     "name": "stdout",
     "output_type": "stream",
     "text": [
      "Название фрукта - Яблоко, его индекс в списке - 0\n",
      "Название фрукта - Груша, его индекс в списке - 1\n",
      "Название фрукта - Слива, его индекс в списке - 2\n"
     ]
    },
    {
     "data": {
      "text/plain": [
       "'Слива'"
      ]
     },
     "execution_count": 69,
     "metadata": {},
     "output_type": "execute_result"
    }
   ],
   "source": [
    "count = 0\n",
    "fr =['Яблоко', 'Груша', 'Слива']\n",
    "for name in fr:\n",
    "    print(f'Название фрукта - {name}, его индекс в списке - {count}')\n",
    "    count += 1\n",
    "fr[2]"
   ]
  },
  {
   "cell_type": "code",
   "execution_count": 70,
   "id": "486a527e",
   "metadata": {},
   "outputs": [
    {
     "name": "stdout",
     "output_type": "stream",
     "text": [
      "Название фрукта - Яблоко, его индекс в списке - 0\n",
      "Название фрукта - Груша, его индекс в списке - 1\n",
      "Название фрукта - Слива, его индекс в списке - 2\n"
     ]
    }
   ],
   "source": [
    "for idx, name in enumerate(['Яблоко', 'Груша', 'Слива']):\n",
    "    print(f'Название фрукта - {name}, его индекс в списке - {idx}')"
   ]
  },
  {
   "cell_type": "markdown",
   "id": "1fc2fc94",
   "metadata": {},
   "source": [
    "|Полезно знать про **`zip`**:"
   ]
  },
  {
   "cell_type": "code",
   "execution_count": 71,
   "id": "4a5d6bda",
   "metadata": {},
   "outputs": [
    {
     "name": "stdout",
     "output_type": "stream",
     "text": [
      "Название товара: Name_1, стомость: 100, 1\n",
      "Название товара: Name_2, стомость: 200, 2\n",
      "Название товара: Name_3, стомость: 300, 3\n"
     ]
    }
   ],
   "source": [
    "for name, price, new in zip([\"Name_1\", \"Name_2\", \"Name_3\"], [100, 200, 300, 400], [1,2,3,3,4,]):\n",
    "    print(f\"Название товара: {name}, стомость: {price}, {new}\")"
   ]
  },
  {
   "cell_type": "code",
   "execution_count": 72,
   "id": "b973a095",
   "metadata": {},
   "outputs": [
    {
     "data": {
      "text/plain": [
       "{'Name_1': 100, 'Name_2': 200, 'Name_3': 300}"
      ]
     },
     "execution_count": 72,
     "metadata": {},
     "output_type": "execute_result"
    }
   ],
   "source": [
    "dict(zip([\"Name_1\", \"Name_2\", \"Name_3\"], [100, 200, 300]))"
   ]
  },
  {
   "cell_type": "markdown",
   "id": "1f8b09ee",
   "metadata": {},
   "source": [
    "Обратите внимание, что если количество элементов разное, к ошибке это не приводит, но и на печать не выводится:"
   ]
  },
  {
   "cell_type": "code",
   "execution_count": 73,
   "id": "674fbd82",
   "metadata": {},
   "outputs": [
    {
     "name": "stdout",
     "output_type": "stream",
     "text": [
      "Название товара: Name_1, стоимость: 100\n",
      "Название товара: Name_2, стоимость: 200\n",
      "Название товара: Name_3, стоимость: 300\n"
     ]
    }
   ],
   "source": [
    "name_list = [\"Name_1\", \"Name_2\", \"Name_3\"]\n",
    "price_list = [100, 200, 300, 400, 500]\n",
    "for name, price in zip(name_list, price_list):\n",
    "    print(f\"Название товара: {name}, стоимость: {price}\")"
   ]
  },
  {
   "cell_type": "code",
   "execution_count": 74,
   "id": "e0422652",
   "metadata": {},
   "outputs": [],
   "source": [
    "#continue и break\n",
    "for i in range(1000):\n",
    "    continue\n",
    "    print(i)"
   ]
  },
  {
   "cell_type": "code",
   "execution_count": 75,
   "id": "7ea92fe4",
   "metadata": {},
   "outputs": [
    {
     "name": "stdout",
     "output_type": "stream",
     "text": [
      "0\n",
      "1\n",
      "4\n"
     ]
    }
   ],
   "source": [
    "for i in range(10):\n",
    "    if i == 3:\n",
    "        # продолжить выполнение цикла (следующая итерация)\n",
    "        continue\n",
    "    if i == 2:\n",
    "        # продолжить выполнение цикла (следующая итерация)\n",
    "        continue\n",
    "    if i == 5:\n",
    "        # выход из цикла\n",
    "        break\n",
    "    print(i)"
   ]
  },
  {
   "cell_type": "markdown",
   "id": "61b392a4",
   "metadata": {},
   "source": [
    "# 5. List comprehension"
   ]
  },
  {
   "cell_type": "markdown",
   "id": "de199433",
   "metadata": {},
   "source": [
    "**List comprehension** - это компактный способ создания списков в Python, который позволяет вам генерировать новые списки на основе существующих списков или других итерируемых объектов. Он представляет собой выражение, включающее в себя итерацию по элементам итерируемого объекта и применение выражения к каждому элементу.\n",
    "\n",
    "Вот пример простого list comprehension для создания списка квадратов чисел от 0 до 9:"
   ]
  },
  {
   "cell_type": "code",
   "execution_count": 76,
   "id": "d7b44851",
   "metadata": {},
   "outputs": [],
   "source": [
    "squares = [x**2 for x in range(10)]"
   ]
  },
  {
   "cell_type": "code",
   "execution_count": 77,
   "id": "5cc323c8",
   "metadata": {},
   "outputs": [
    {
     "data": {
      "text/plain": [
       "[0, 1, 4, 9, 16, 25, 36, 49, 64, 81]"
      ]
     },
     "execution_count": 77,
     "metadata": {},
     "output_type": "execute_result"
    }
   ],
   "source": [
    "squares"
   ]
  },
  {
   "cell_type": "markdown",
   "id": "5c7c5cc9",
   "metadata": {},
   "source": [
    "Это эквивалентно следующему коду с использованием цикла for:"
   ]
  },
  {
   "cell_type": "code",
   "execution_count": 78,
   "id": "f2cccf13",
   "metadata": {},
   "outputs": [],
   "source": [
    "squares = []\n",
    "for x in range(10):\n",
    "    squares.append(x**2)"
   ]
  },
  {
   "cell_type": "code",
   "execution_count": 79,
   "id": "99466874",
   "metadata": {},
   "outputs": [
    {
     "data": {
      "text/plain": [
       "[0, 1, 4, 9, 16, 25, 36, 49, 64, 81]"
      ]
     },
     "execution_count": 79,
     "metadata": {},
     "output_type": "execute_result"
    }
   ],
   "source": [
    "squares"
   ]
  },
  {
   "cell_type": "markdown",
   "id": "ab18cc3b",
   "metadata": {},
   "source": [
    "Добавляем **if**"
   ]
  },
  {
   "cell_type": "code",
   "execution_count": 80,
   "id": "516b64e9",
   "metadata": {},
   "outputs": [
    {
     "name": "stdout",
     "output_type": "stream",
     "text": [
      "[1, 3, 5, 7, 9]\n"
     ]
    }
   ],
   "source": [
    "odds = [x for x in range(10) if x % 2 != 0]\n",
    "\n",
    "print(odds)"
   ]
  },
  {
   "cell_type": "markdown",
   "id": "391c15f3",
   "metadata": {},
   "source": [
    "Добавляем **if-else**"
   ]
  },
  {
   "cell_type": "code",
   "execution_count": 81,
   "id": "12e02d71",
   "metadata": {},
   "outputs": [
    {
     "data": {
      "text/plain": [
       "[0, 4, 0, 16, 0, 36, 0, 64, 0]"
      ]
     },
     "execution_count": 81,
     "metadata": {},
     "output_type": "execute_result"
    }
   ],
   "source": [
    "[x**2 if x % 2 == 0 else 0 for x in range(1, 10)]"
   ]
  },
  {
   "cell_type": "markdown",
   "id": "e2223531",
   "metadata": {},
   "source": [
    "#  6. Lambda-функция"
   ]
  },
  {
   "cell_type": "markdown",
   "id": "d991db74",
   "metadata": {},
   "source": [
    "- Может иметь любое количество аргументов, но вычисляет и возвращает только одно значение\n",
    "- Лямбда-функции применимы везде, где требуются объекты-функции \n",
    "- Cинтаксически лямбда-функция ограничена, позволяет представить всего одно выражение"
   ]
  },
  {
   "cell_type": "markdown",
   "id": "4e896d13",
   "metadata": {},
   "source": [
    "Давайте представим, что вы приготовили печенье. Вместо того, чтобы создавать полноценное блюдо с детальным рецептом и инструкциями по приготовлению (как это делается при использовании обычной функции), вы просто решаете взять кусок теста, быстро слепить его в нужную форму и испечь. Этот кусочек теста - это ваша лямбда-функция. Он быстро выполняет одно задание (в данном случае - испечь печенье), без необходимости создавать полноценное блюдо (функцию) с подробным списком ингредиентов и инструкциями.\n",
    "\n",
    "Таким образом, лямбда-функция - это небольшой кусочек кода, который может быть быстро создан и использован для выполнения одной конкретной задачи без необходимости определения полноценной функции."
   ]
  },
  {
   "cell_type": "code",
   "execution_count": 82,
   "id": "82bce83f",
   "metadata": {},
   "outputs": [
    {
     "data": {
      "text/plain": [
       "5"
      ]
     },
     "execution_count": 82,
     "metadata": {},
     "output_type": "execute_result"
    }
   ],
   "source": [
    "def add(x, y):\n",
    "    return x + y\n",
    "\n",
    "add(2, 3)"
   ]
  },
  {
   "cell_type": "code",
   "execution_count": 83,
   "id": "fc0ba691",
   "metadata": {},
   "outputs": [
    {
     "data": {
      "text/plain": [
       "<function __main__.<lambda>(x, y)>"
      ]
     },
     "execution_count": 83,
     "metadata": {},
     "output_type": "execute_result"
    }
   ],
   "source": [
    "summary = lambda x,y: x+y\n",
    "summary"
   ]
  },
  {
   "cell_type": "code",
   "execution_count": 84,
   "id": "4ea2e424",
   "metadata": {},
   "outputs": [
    {
     "data": {
      "text/plain": [
       "5"
      ]
     },
     "execution_count": 84,
     "metadata": {},
     "output_type": "execute_result"
    }
   ],
   "source": [
    "summary(2,3)"
   ]
  },
  {
   "cell_type": "code",
   "execution_count": 85,
   "id": "6633ed9f",
   "metadata": {},
   "outputs": [
    {
     "name": "stdout",
     "output_type": "stream",
     "text": [
      "10\n"
     ]
    }
   ],
   "source": [
    "max_number = lambda x, y: x if x > y else y\n",
    "print(max_number(10, 5))"
   ]
  },
  {
   "cell_type": "code",
   "execution_count": 86,
   "id": "7cd046e9",
   "metadata": {},
   "outputs": [
    {
     "name": "stdout",
     "output_type": "stream",
     "text": [
      "10\n",
      "10\n"
     ]
    }
   ],
   "source": [
    "# Обычное определение функции с использованием def\n",
    "def double(x):\n",
    "    return x * 2\n",
    "\n",
    "# Эквивалентное определение с использованием lambda\n",
    "double_lambda = lambda x: x * 2\n",
    "\n",
    "# Использование обычной функции\n",
    "result1 = double(5)\n",
    "print(result1)  # Вывод: 10\n",
    "\n",
    "# Использование lambda-функции\n",
    "result2 = double_lambda(5)\n",
    "print(result2)  # Вывод: 10"
   ]
  },
  {
   "cell_type": "markdown",
   "id": "9741a45b",
   "metadata": {},
   "source": [
    "В этом примере double_lambda является лямбда-функцией, которая принимает аргумент x и возвращает x * 2. Лямбда-функция создается с помощью ключевого слова lambda, а определение функции содержится после двоеточия. Лямбда-функция сохраняется в переменной double_lambda и вызывается точно так же, как и обычная функция."
   ]
  },
  {
   "cell_type": "markdown",
   "id": "d5abede2",
   "metadata": {},
   "source": [
    "# 7. Ура, Задание!"
   ]
  },
  {
   "cell_type": "code",
   "execution_count": 87,
   "id": "8bf53c8b",
   "metadata": {},
   "outputs": [],
   "source": [
    "def update_data(data_list, new_element):\n",
    "    \"\"\"\n",
    "    Функция для обновления данных в списке.\n",
    "\n",
    "    Аргументы:\n",
    "    data_list (list): Список данных для обновления.\n",
    "\n",
    "    Возвращает:\n",
    "    updated_list (list): Обновленный список данных.\n",
    "    \"\"\"\n",
    "    updated_list = []\n",
    "    for item in data_list:\n",
    "        if isinstance(item, list):\n",
    "            item.append(new_element)\n",
    "            updated_list.append(item)\n",
    "        elif isinstance(item, int):\n",
    "            item += 10\n",
    "            updated_list.append(item)\n",
    "        else:\n",
    "            print(f\"Error: Unsupported data type - {type(item)}\")\n",
    "            return None\n",
    "    \n",
    "    double_value = lambda x: x * 2\n",
    "    updated_list = [double_value(x) for x in updated_list]\n",
    "    \n",
    "    return updated_list"
   ]
  },
  {
   "cell_type": "code",
   "execution_count": 88,
   "id": "69d0d8a9",
   "metadata": {},
   "outputs": [
    {
     "name": "stdout",
     "output_type": "stream",
     "text": [
      "Error: Unsupported data type - <class 'str'>\n",
      "Updated data: None\n"
     ]
    }
   ],
   "source": [
    "input_data = ['a', [1, 2, 3], 5, [7, 8]]\n",
    "print(\"Updated data:\", update_data(input_data, 45))"
   ]
  },
  {
   "cell_type": "code",
   "execution_count": 89,
   "id": "d46047c6",
   "metadata": {},
   "outputs": [
    {
     "name": "stdout",
     "output_type": "stream",
     "text": [
      "Updated data: [[467, 78, 45, 467, 78, 45], [1, 2, 3, 45, 1, 2, 3, 45], 30, [7, 8, 45, 7, 8, 45]]\n"
     ]
    }
   ],
   "source": [
    "input_data = [[467, 78],[1, 2, 3], 5, [7, 8]]\n",
    "print(\"Updated data:\", update_data(input_data, 45))"
   ]
  },
  {
   "cell_type": "markdown",
   "id": "c8b528ab",
   "metadata": {
    "heading_collapsed": true
   },
   "source": [
    "# 8. Полезные команды"
   ]
  },
  {
   "cell_type": "code",
   "execution_count": 90,
   "id": "bf55ffd8",
   "metadata": {},
   "outputs": [],
   "source": [
    "# Создание списка\n",
    "test_list = [1, 2, 3, 4, 5]"
   ]
  },
  {
   "cell_type": "code",
   "execution_count": 91,
   "id": "e27383f4",
   "metadata": {},
   "outputs": [
    {
     "name": "stdout",
     "output_type": "stream",
     "text": [
      "Length of the list: 5\n"
     ]
    }
   ],
   "source": [
    "# Вызов функции len() для определения длины списка\n",
    "list_length = len(test_list)\n",
    "print(\"Length of the list:\", list_length)"
   ]
  },
  {
   "cell_type": "code",
   "execution_count": 92,
   "id": "a4ce87d4",
   "metadata": {},
   "outputs": [
    {
     "name": "stdout",
     "output_type": "stream",
     "text": [
      "Sum of the numbers: 15\n"
     ]
    }
   ],
   "source": [
    "# Вызов функции sum() для подсчета суммы элементов списка\n",
    "total_sum = sum(test_list)\n",
    "print(\"Sum of the numbers:\", total_sum)"
   ]
  },
  {
   "cell_type": "code",
   "execution_count": 93,
   "id": "fbec62a0",
   "metadata": {},
   "outputs": [
    {
     "name": "stdout",
     "output_type": "stream",
     "text": [
      "Minimum value: 1\n",
      "Maximum value: 5\n"
     ]
    }
   ],
   "source": [
    "# Вызов функции min() для нахождения минимального значения\n",
    "min_value = min(test_list)\n",
    "print(\"Minimum value:\", min_value)\n",
    "\n",
    "# Вызов функции max() для нахождения максимального значения\n",
    "max_value = max(test_list)\n",
    "print(\"Maximum value:\", max_value)"
   ]
  },
  {
   "cell_type": "code",
   "execution_count": 94,
   "id": "aeu50YdRfdaz",
   "metadata": {
    "hidden": true,
    "id": "aeu50YdRfdaz"
   },
   "outputs": [
    {
     "data": {
      "text/plain": [
       "True"
      ]
     },
     "execution_count": 94,
     "metadata": {},
     "output_type": "execute_result"
    }
   ],
   "source": [
    "# Проверяет принадлежность к определенному классу\n",
    "a = 5.0\n",
    "\n",
    "isinstance(a, float)"
   ]
  },
  {
   "cell_type": "code",
   "execution_count": 95,
   "id": "e4df98fe",
   "metadata": {
    "hidden": true,
    "id": "XaWCalO1-Y9_"
   },
   "outputs": [
    {
     "data": {
      "text/plain": [
       "['__add__',\n",
       " '__class__',\n",
       " '__contains__',\n",
       " '__delattr__',\n",
       " '__dir__',\n",
       " '__doc__',\n",
       " '__eq__',\n",
       " '__format__',\n",
       " '__ge__',\n",
       " '__getattribute__',\n",
       " '__getitem__',\n",
       " '__getnewargs__',\n",
       " '__getstate__',\n",
       " '__gt__',\n",
       " '__hash__',\n",
       " '__init__',\n",
       " '__init_subclass__',\n",
       " '__iter__',\n",
       " '__le__',\n",
       " '__len__',\n",
       " '__lt__',\n",
       " '__mod__',\n",
       " '__mul__',\n",
       " '__ne__',\n",
       " '__new__',\n",
       " '__reduce__',\n",
       " '__reduce_ex__',\n",
       " '__repr__',\n",
       " '__rmod__',\n",
       " '__rmul__',\n",
       " '__setattr__',\n",
       " '__sizeof__',\n",
       " '__str__',\n",
       " '__subclasshook__',\n",
       " 'capitalize',\n",
       " 'casefold',\n",
       " 'center',\n",
       " 'count',\n",
       " 'encode',\n",
       " 'endswith',\n",
       " 'expandtabs',\n",
       " 'find',\n",
       " 'format',\n",
       " 'format_map',\n",
       " 'index',\n",
       " 'isalnum',\n",
       " 'isalpha',\n",
       " 'isascii',\n",
       " 'isdecimal',\n",
       " 'isdigit',\n",
       " 'isidentifier',\n",
       " 'islower',\n",
       " 'isnumeric',\n",
       " 'isprintable',\n",
       " 'isspace',\n",
       " 'istitle',\n",
       " 'isupper',\n",
       " 'join',\n",
       " 'ljust',\n",
       " 'lower',\n",
       " 'lstrip',\n",
       " 'maketrans',\n",
       " 'partition',\n",
       " 'removeprefix',\n",
       " 'removesuffix',\n",
       " 'replace',\n",
       " 'rfind',\n",
       " 'rindex',\n",
       " 'rjust',\n",
       " 'rpartition',\n",
       " 'rsplit',\n",
       " 'rstrip',\n",
       " 'split',\n",
       " 'splitlines',\n",
       " 'startswith',\n",
       " 'strip',\n",
       " 'swapcase',\n",
       " 'title',\n",
       " 'translate',\n",
       " 'upper',\n",
       " 'zfill']"
      ]
     },
     "execution_count": 95,
     "metadata": {},
     "output_type": "execute_result"
    }
   ],
   "source": [
    "# Показывает методы и атрибуты объекта\n",
    "var = 'Hello world'\n",
    "dir(var)"
   ]
  },
  {
   "cell_type": "code",
   "execution_count": 96,
   "id": "9cd17070",
   "metadata": {},
   "outputs": [
    {
     "data": {
      "text/plain": [
       "10"
      ]
     },
     "execution_count": 96,
     "metadata": {},
     "output_type": "execute_result"
    }
   ],
   "source": [
    "var.find('d')"
   ]
  },
  {
   "cell_type": "markdown",
   "id": "a19c9d8e",
   "metadata": {},
   "source": [
    "Функция **map()** в Python применяет указанную функцию к каждому элементу итерируемого объекта (например, списка) и возвращает новый итератор, содержащий результаты применения этой функции к каждому элементу."
   ]
  },
  {
   "cell_type": "code",
   "execution_count": 97,
   "id": "3788e0e0",
   "metadata": {
    "hidden": true
   },
   "outputs": [],
   "source": [
    "a = [1,2,3,4,5]\n",
    "\n",
    "def add(x):\n",
    "    return x ** 2\n",
    "\n",
    "result = map(add, a)"
   ]
  },
  {
   "cell_type": "code",
   "execution_count": null,
   "id": "51e0bd12",
   "metadata": {
    "hidden": true
   },
   "outputs": [],
   "source": [
    "list(result)"
   ]
  },
  {
   "cell_type": "markdown",
   "id": "6eaa6357",
   "metadata": {},
   "source": [
    "В Python функция **zip()** используется для объединения элементов нескольких итерируемых объектов (например, списков, кортежей или строк) попарно в кортежи."
   ]
  },
  {
   "cell_type": "code",
   "execution_count": null,
   "id": "fd18bc4e",
   "metadata": {
    "hidden": true
   },
   "outputs": [],
   "source": [
    "key = [1,2,3,4,5]\n",
    "value = ['aa', 'bb', 'cc', 'dd', 'ee']\n",
    "\n",
    "result = zip(key, value)"
   ]
  },
  {
   "cell_type": "code",
   "execution_count": null,
   "id": "010b068b",
   "metadata": {},
   "outputs": [],
   "source": [
    "result"
   ]
  },
  {
   "cell_type": "code",
   "execution_count": null,
   "id": "8216e459",
   "metadata": {
    "hidden": true
   },
   "outputs": [],
   "source": [
    "dict(result)"
   ]
  },
  {
   "cell_type": "code",
   "execution_count": null,
   "id": "42f7a1e3",
   "metadata": {
    "hidden": true
   },
   "outputs": [],
   "source": [
    "# type() - показывает тип данных объекта\n",
    "\n",
    "type('hello'), type(5), type(5.0), type([1,2,3]), \\\n",
    "type((1,2,3)), type(True), \\\n",
    "type({1,2,3}), type({1:1,2:2,3:3}), type(None)"
   ]
  },
  {
   "cell_type": "markdown",
   "id": "56a8dfa5",
   "metadata": {},
   "source": [
    "### Домашнее задание 3: изучить работу с файлами, изучить сохранение объектов в pickle/joblib, почитать про магические команды jupyter и расширения nb_extension"
   ]
  },
  {
   "cell_type": "markdown",
   "id": "d22f4e6c",
   "metadata": {},
   "source": [
    "# На сегодня все, всем спасибо!"
   ]
  }
 ],
 "metadata": {
  "accelerator": "GPU",
  "colab": {
   "collapsed_sections": [
    "aac03f4e-b797-48a2-94e2-ebb84bdd9065",
    "0b326894-0521-4436-8208-473753c0798e",
    "4abbd160-6a5a-4bd7-ad33-87baa2a678d3",
    "5b8fe7ca-9f4c-4793-8aec-ec5033a23e7a"
   ],
   "name": "ds33_python.ipynb",
   "provenance": [],
   "toc_visible": true
  },
  "gpuClass": "standard",
  "hide_input": false,
  "kernelspec": {
   "display_name": "Python 3 (ipykernel)",
   "language": "python",
   "name": "python3"
  },
  "language_info": {
   "codemirror_mode": {
    "name": "ipython",
    "version": 3
   },
   "file_extension": ".py",
   "mimetype": "text/x-python",
   "name": "python",
   "nbconvert_exporter": "python",
   "pygments_lexer": "ipython3",
   "version": "3.11.7"
  },
  "toc": {
   "base_numbering": 1,
   "nav_menu": {},
   "number_sections": true,
   "sideBar": true,
   "skip_h1_title": false,
   "title_cell": "Table of Contents",
   "title_sidebar": "Contents",
   "toc_cell": true,
   "toc_position": {
    "height": "calc(100% - 180px)",
    "left": "10px",
    "top": "150px",
    "width": "189.788px"
   },
   "toc_section_display": true,
   "toc_window_display": true
  }
 },
 "nbformat": 4,
 "nbformat_minor": 5
}
